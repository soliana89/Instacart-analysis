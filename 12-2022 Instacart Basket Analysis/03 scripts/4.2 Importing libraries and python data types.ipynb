{
 "cells": [
  {
   "cell_type": "code",
   "execution_count": null,
   "id": "92facbf0",
   "metadata": {},
   "outputs": [],
   "source": [
    "# 01.Importing libraries"
   ]
  },
  {
   "cell_type": "code",
   "execution_count": 8,
   "id": "81a503a0",
   "metadata": {},
   "outputs": [],
   "source": [
    "#Import Libraries\n",
    "import pandas as pd\n",
    "import numpy as np\n",
    "import os"
   ]
  },
  {
   "cell_type": "markdown",
   "id": "d81c9a03",
   "metadata": {},
   "source": [
    "# python data type"
   ]
  },
  {
   "cell_type": "code",
   "execution_count": 1,
   "id": "1539a00c",
   "metadata": {},
   "outputs": [
    {
     "name": "stdout",
     "output_type": "stream",
     "text": [
      "addition of a and b is = 100\n"
     ]
    }
   ],
   "source": [
    "a = 50\n",
    "b = 50\n",
    "c = a + b \n",
    "print(\"addition of a and b is =\",c)"
   ]
  },
  {
   "cell_type": "code",
   "execution_count": 4,
   "id": "5f4abeb4",
   "metadata": {},
   "outputs": [
    {
     "name": "stdout",
     "output_type": "stream",
     "text": [
      "addition of x and 98 is = 100\n"
     ]
    }
   ],
   "source": [
    "x = 2\n",
    "y = x + 98\n",
    "print (\"addition of x and 98 is =\",y)"
   ]
  },
  {
   "cell_type": "code",
   "execution_count": 5,
   "id": "ddcff620",
   "metadata": {},
   "outputs": [
    {
     "name": "stdout",
     "output_type": "stream",
     "text": [
      "subtraction of b and d is = 100\n"
     ]
    }
   ],
   "source": [
    "b = 150\n",
    "d = 50\n",
    "e = b - d\n",
    "print(\"subtraction of b and d is =\",e)"
   ]
  },
  {
   "cell_type": "code",
   "execution_count": 6,
   "id": "1f60f1d9",
   "metadata": {},
   "outputs": [
    {
     "name": "stdout",
     "output_type": "stream",
     "text": [
      "division of a and b is = 1.8\n"
     ]
    }
   ],
   "source": [
    "a = 4.5\n",
    "b = 2.5\n",
    "c = a / b\n",
    "print (\"division of a and b is =\", c)"
   ]
  },
  {
   "cell_type": "code",
   "execution_count": 8,
   "id": "c41c288b",
   "metadata": {},
   "outputs": [
    {
     "data": {
      "text/plain": [
       "str"
      ]
     },
     "execution_count": 8,
     "metadata": {},
     "output_type": "execute_result"
    }
   ],
   "source": [
    "z = 'she'\n",
    "type(z)"
   ]
  },
  {
   "cell_type": "code",
   "execution_count": 9,
   "id": "ecb27f4e",
   "metadata": {},
   "outputs": [
    {
     "data": {
      "text/plain": [
       "str"
      ]
     },
     "execution_count": 9,
     "metadata": {},
     "output_type": "execute_result"
    }
   ],
   "source": [
    "type ('i am starving')"
   ]
  },
  {
   "cell_type": "code",
   "execution_count": 11,
   "id": "b455d614",
   "metadata": {},
   "outputs": [
    {
     "data": {
      "text/plain": [
       "str"
      ]
     },
     "execution_count": 11,
     "metadata": {},
     "output_type": "execute_result"
    }
   ],
   "source": [
    "type ( 'she visited her parents')"
   ]
  },
  {
   "cell_type": "code",
   "execution_count": null,
   "id": "0d5ac4fb",
   "metadata": {},
   "outputs": [],
   "source": []
  }
 ],
 "metadata": {
  "kernelspec": {
   "display_name": "Python 3 (ipykernel)",
   "language": "python",
   "name": "python3"
  },
  "language_info": {
   "codemirror_mode": {
    "name": "ipython",
    "version": 3
   },
   "file_extension": ".py",
   "mimetype": "text/x-python",
   "name": "python",
   "nbconvert_exporter": "python",
   "pygments_lexer": "ipython3",
   "version": "3.9.13"
  }
 },
 "nbformat": 4,
 "nbformat_minor": 5
}
